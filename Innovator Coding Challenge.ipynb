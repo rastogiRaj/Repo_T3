{
 "cells": [
  {
   "cell_type": "code",
   "execution_count": 18,
   "id": "a9148be0",
   "metadata": {},
   "outputs": [],
   "source": [
    "import pandas as pd\n",
    "import numpy as np\n",
    "import matplotlib.pyplot as plt \n",
    "import seaborn as sns\n",
    "import sklearn \n",
    "%matplotlib inline"
   ]
  },
  {
   "cell_type": "code",
   "execution_count": 30,
   "id": "1d1540c3",
   "metadata": {},
   "outputs": [
    {
     "data": {
      "text/html": [
       "<div>\n",
       "<style scoped>\n",
       "    .dataframe tbody tr th:only-of-type {\n",
       "        vertical-align: middle;\n",
       "    }\n",
       "\n",
       "    .dataframe tbody tr th {\n",
       "        vertical-align: top;\n",
       "    }\n",
       "\n",
       "    .dataframe thead th {\n",
       "        text-align: right;\n",
       "    }\n",
       "</style>\n",
       "<table border=\"1\" class=\"dataframe\">\n",
       "  <thead>\n",
       "    <tr style=\"text-align: right;\">\n",
       "      <th></th>\n",
       "      <th>longitude</th>\n",
       "      <th>latitude</th>\n",
       "      <th>housing_median_age</th>\n",
       "      <th>total_rooms</th>\n",
       "      <th>total_bedrooms</th>\n",
       "      <th>population</th>\n",
       "      <th>households</th>\n",
       "      <th>median_income</th>\n",
       "      <th>median_house_value</th>\n",
       "    </tr>\n",
       "  </thead>\n",
       "  <tbody>\n",
       "    <tr>\n",
       "      <th>0</th>\n",
       "      <td>-114.31</td>\n",
       "      <td>34.19</td>\n",
       "      <td>15.0</td>\n",
       "      <td>5612.0</td>\n",
       "      <td>1283.0</td>\n",
       "      <td>1015.0</td>\n",
       "      <td>472.0</td>\n",
       "      <td>1.4936</td>\n",
       "      <td>66900.0</td>\n",
       "    </tr>\n",
       "    <tr>\n",
       "      <th>1</th>\n",
       "      <td>-114.47</td>\n",
       "      <td>34.40</td>\n",
       "      <td>19.0</td>\n",
       "      <td>7650.0</td>\n",
       "      <td>1901.0</td>\n",
       "      <td>1129.0</td>\n",
       "      <td>463.0</td>\n",
       "      <td>1.8200</td>\n",
       "      <td>80100.0</td>\n",
       "    </tr>\n",
       "    <tr>\n",
       "      <th>2</th>\n",
       "      <td>-114.56</td>\n",
       "      <td>33.69</td>\n",
       "      <td>17.0</td>\n",
       "      <td>720.0</td>\n",
       "      <td>174.0</td>\n",
       "      <td>333.0</td>\n",
       "      <td>117.0</td>\n",
       "      <td>1.6509</td>\n",
       "      <td>85700.0</td>\n",
       "    </tr>\n",
       "    <tr>\n",
       "      <th>3</th>\n",
       "      <td>-114.57</td>\n",
       "      <td>33.64</td>\n",
       "      <td>14.0</td>\n",
       "      <td>1501.0</td>\n",
       "      <td>337.0</td>\n",
       "      <td>515.0</td>\n",
       "      <td>226.0</td>\n",
       "      <td>3.1917</td>\n",
       "      <td>73400.0</td>\n",
       "    </tr>\n",
       "    <tr>\n",
       "      <th>4</th>\n",
       "      <td>-114.57</td>\n",
       "      <td>33.57</td>\n",
       "      <td>20.0</td>\n",
       "      <td>1454.0</td>\n",
       "      <td>326.0</td>\n",
       "      <td>624.0</td>\n",
       "      <td>262.0</td>\n",
       "      <td>1.9250</td>\n",
       "      <td>65500.0</td>\n",
       "    </tr>\n",
       "  </tbody>\n",
       "</table>\n",
       "</div>"
      ],
      "text/plain": [
       "   longitude  latitude  housing_median_age  total_rooms  total_bedrooms  \\\n",
       "0    -114.31     34.19                15.0       5612.0          1283.0   \n",
       "1    -114.47     34.40                19.0       7650.0          1901.0   \n",
       "2    -114.56     33.69                17.0        720.0           174.0   \n",
       "3    -114.57     33.64                14.0       1501.0           337.0   \n",
       "4    -114.57     33.57                20.0       1454.0           326.0   \n",
       "\n",
       "   population  households  median_income  median_house_value  \n",
       "0      1015.0       472.0         1.4936             66900.0  \n",
       "1      1129.0       463.0         1.8200             80100.0  \n",
       "2       333.0       117.0         1.6509             85700.0  \n",
       "3       515.0       226.0         3.1917             73400.0  \n",
       "4       624.0       262.0         1.9250             65500.0  "
      ]
     },
     "execution_count": 30,
     "metadata": {},
     "output_type": "execute_result"
    }
   ],
   "source": [
    "df = pd.read_csv('california_housing_train.csv')\n",
    "df.head()"
   ]
  },
  {
   "cell_type": "code",
   "execution_count": 31,
   "id": "5df43cd9",
   "metadata": {},
   "outputs": [
    {
     "data": {
      "text/html": [
       "<div>\n",
       "<style scoped>\n",
       "    .dataframe tbody tr th:only-of-type {\n",
       "        vertical-align: middle;\n",
       "    }\n",
       "\n",
       "    .dataframe tbody tr th {\n",
       "        vertical-align: top;\n",
       "    }\n",
       "\n",
       "    .dataframe thead th {\n",
       "        text-align: right;\n",
       "    }\n",
       "</style>\n",
       "<table border=\"1\" class=\"dataframe\">\n",
       "  <thead>\n",
       "    <tr style=\"text-align: right;\">\n",
       "      <th></th>\n",
       "      <th>longitude</th>\n",
       "      <th>latitude</th>\n",
       "      <th>housing_median_age</th>\n",
       "      <th>total_rooms</th>\n",
       "      <th>total_bedrooms</th>\n",
       "      <th>population</th>\n",
       "      <th>households</th>\n",
       "      <th>median_income</th>\n",
       "    </tr>\n",
       "  </thead>\n",
       "  <tbody>\n",
       "    <tr>\n",
       "      <th>0</th>\n",
       "      <td>-114.31</td>\n",
       "      <td>34.19</td>\n",
       "      <td>15.0</td>\n",
       "      <td>5612.0</td>\n",
       "      <td>1283.0</td>\n",
       "      <td>1015.0</td>\n",
       "      <td>472.0</td>\n",
       "      <td>1.4936</td>\n",
       "    </tr>\n",
       "    <tr>\n",
       "      <th>1</th>\n",
       "      <td>-114.47</td>\n",
       "      <td>34.40</td>\n",
       "      <td>19.0</td>\n",
       "      <td>7650.0</td>\n",
       "      <td>1901.0</td>\n",
       "      <td>1129.0</td>\n",
       "      <td>463.0</td>\n",
       "      <td>1.8200</td>\n",
       "    </tr>\n",
       "    <tr>\n",
       "      <th>2</th>\n",
       "      <td>-114.56</td>\n",
       "      <td>33.69</td>\n",
       "      <td>17.0</td>\n",
       "      <td>720.0</td>\n",
       "      <td>174.0</td>\n",
       "      <td>333.0</td>\n",
       "      <td>117.0</td>\n",
       "      <td>1.6509</td>\n",
       "    </tr>\n",
       "    <tr>\n",
       "      <th>3</th>\n",
       "      <td>-114.57</td>\n",
       "      <td>33.64</td>\n",
       "      <td>14.0</td>\n",
       "      <td>1501.0</td>\n",
       "      <td>337.0</td>\n",
       "      <td>515.0</td>\n",
       "      <td>226.0</td>\n",
       "      <td>3.1917</td>\n",
       "    </tr>\n",
       "    <tr>\n",
       "      <th>4</th>\n",
       "      <td>-114.57</td>\n",
       "      <td>33.57</td>\n",
       "      <td>20.0</td>\n",
       "      <td>1454.0</td>\n",
       "      <td>326.0</td>\n",
       "      <td>624.0</td>\n",
       "      <td>262.0</td>\n",
       "      <td>1.9250</td>\n",
       "    </tr>\n",
       "    <tr>\n",
       "      <th>...</th>\n",
       "      <td>...</td>\n",
       "      <td>...</td>\n",
       "      <td>...</td>\n",
       "      <td>...</td>\n",
       "      <td>...</td>\n",
       "      <td>...</td>\n",
       "      <td>...</td>\n",
       "      <td>...</td>\n",
       "    </tr>\n",
       "    <tr>\n",
       "      <th>16995</th>\n",
       "      <td>-124.26</td>\n",
       "      <td>40.58</td>\n",
       "      <td>52.0</td>\n",
       "      <td>2217.0</td>\n",
       "      <td>394.0</td>\n",
       "      <td>907.0</td>\n",
       "      <td>369.0</td>\n",
       "      <td>2.3571</td>\n",
       "    </tr>\n",
       "    <tr>\n",
       "      <th>16996</th>\n",
       "      <td>-124.27</td>\n",
       "      <td>40.69</td>\n",
       "      <td>36.0</td>\n",
       "      <td>2349.0</td>\n",
       "      <td>528.0</td>\n",
       "      <td>1194.0</td>\n",
       "      <td>465.0</td>\n",
       "      <td>2.5179</td>\n",
       "    </tr>\n",
       "    <tr>\n",
       "      <th>16997</th>\n",
       "      <td>-124.30</td>\n",
       "      <td>41.84</td>\n",
       "      <td>17.0</td>\n",
       "      <td>2677.0</td>\n",
       "      <td>531.0</td>\n",
       "      <td>1244.0</td>\n",
       "      <td>456.0</td>\n",
       "      <td>3.0313</td>\n",
       "    </tr>\n",
       "    <tr>\n",
       "      <th>16998</th>\n",
       "      <td>-124.30</td>\n",
       "      <td>41.80</td>\n",
       "      <td>19.0</td>\n",
       "      <td>2672.0</td>\n",
       "      <td>552.0</td>\n",
       "      <td>1298.0</td>\n",
       "      <td>478.0</td>\n",
       "      <td>1.9797</td>\n",
       "    </tr>\n",
       "    <tr>\n",
       "      <th>16999</th>\n",
       "      <td>-124.35</td>\n",
       "      <td>40.54</td>\n",
       "      <td>52.0</td>\n",
       "      <td>1820.0</td>\n",
       "      <td>300.0</td>\n",
       "      <td>806.0</td>\n",
       "      <td>270.0</td>\n",
       "      <td>3.0147</td>\n",
       "    </tr>\n",
       "  </tbody>\n",
       "</table>\n",
       "<p>17000 rows × 8 columns</p>\n",
       "</div>"
      ],
      "text/plain": [
       "       longitude  latitude  housing_median_age  total_rooms  total_bedrooms  \\\n",
       "0        -114.31     34.19                15.0       5612.0          1283.0   \n",
       "1        -114.47     34.40                19.0       7650.0          1901.0   \n",
       "2        -114.56     33.69                17.0        720.0           174.0   \n",
       "3        -114.57     33.64                14.0       1501.0           337.0   \n",
       "4        -114.57     33.57                20.0       1454.0           326.0   \n",
       "...          ...       ...                 ...          ...             ...   \n",
       "16995    -124.26     40.58                52.0       2217.0           394.0   \n",
       "16996    -124.27     40.69                36.0       2349.0           528.0   \n",
       "16997    -124.30     41.84                17.0       2677.0           531.0   \n",
       "16998    -124.30     41.80                19.0       2672.0           552.0   \n",
       "16999    -124.35     40.54                52.0       1820.0           300.0   \n",
       "\n",
       "       population  households  median_income  \n",
       "0          1015.0       472.0         1.4936  \n",
       "1          1129.0       463.0         1.8200  \n",
       "2           333.0       117.0         1.6509  \n",
       "3           515.0       226.0         3.1917  \n",
       "4           624.0       262.0         1.9250  \n",
       "...           ...         ...            ...  \n",
       "16995       907.0       369.0         2.3571  \n",
       "16996      1194.0       465.0         2.5179  \n",
       "16997      1244.0       456.0         3.0313  \n",
       "16998      1298.0       478.0         1.9797  \n",
       "16999       806.0       270.0         3.0147  \n",
       "\n",
       "[17000 rows x 8 columns]"
      ]
     },
     "execution_count": 31,
     "metadata": {},
     "output_type": "execute_result"
    }
   ],
   "source": [
    "x = df.iloc[:,:-1]\n",
    "x"
   ]
  },
  {
   "cell_type": "code",
   "execution_count": 32,
   "id": "d3e481b9",
   "metadata": {},
   "outputs": [
    {
     "data": {
      "text/plain": [
       "0         66900.0\n",
       "1         80100.0\n",
       "2         85700.0\n",
       "3         73400.0\n",
       "4         65500.0\n",
       "           ...   \n",
       "16995    111400.0\n",
       "16996     79000.0\n",
       "16997    103600.0\n",
       "16998     85800.0\n",
       "16999     94600.0\n",
       "Name: median_house_value, Length: 17000, dtype: float64"
      ]
     },
     "execution_count": 32,
     "metadata": {},
     "output_type": "execute_result"
    }
   ],
   "source": [
    "y = df.iloc[:,-1]\n",
    "y"
   ]
  },
  {
   "cell_type": "code",
   "execution_count": 33,
   "id": "3893eba8",
   "metadata": {},
   "outputs": [
    {
     "data": {
      "text/plain": [
       "longitude             0\n",
       "latitude              0\n",
       "housing_median_age    0\n",
       "total_rooms           0\n",
       "total_bedrooms        0\n",
       "population            0\n",
       "households            0\n",
       "median_income         0\n",
       "dtype: int64"
      ]
     },
     "execution_count": 33,
     "metadata": {},
     "output_type": "execute_result"
    }
   ],
   "source": [
    "# check for null values\n",
    "\n",
    "x.isnull().sum()"
   ]
  },
  {
   "cell_type": "code",
   "execution_count": 34,
   "id": "72081bb4",
   "metadata": {},
   "outputs": [],
   "source": [
    "# split the dataset\n",
    "\n",
    "from sklearn.model_selection import train_test_split\n",
    "x_train,x_test, y_train,y_test = train_test_split(x,y,train_size=0.8)"
   ]
  },
  {
   "cell_type": "code",
   "execution_count": 35,
   "id": "2ebdf090",
   "metadata": {},
   "outputs": [
    {
     "data": {
      "text/html": [
       "<div>\n",
       "<style scoped>\n",
       "    .dataframe tbody tr th:only-of-type {\n",
       "        vertical-align: middle;\n",
       "    }\n",
       "\n",
       "    .dataframe tbody tr th {\n",
       "        vertical-align: top;\n",
       "    }\n",
       "\n",
       "    .dataframe thead th {\n",
       "        text-align: right;\n",
       "    }\n",
       "</style>\n",
       "<table border=\"1\" class=\"dataframe\">\n",
       "  <thead>\n",
       "    <tr style=\"text-align: right;\">\n",
       "      <th></th>\n",
       "      <th>longitude</th>\n",
       "      <th>latitude</th>\n",
       "      <th>housing_median_age</th>\n",
       "      <th>total_rooms</th>\n",
       "      <th>total_bedrooms</th>\n",
       "      <th>population</th>\n",
       "      <th>households</th>\n",
       "      <th>median_income</th>\n",
       "    </tr>\n",
       "  </thead>\n",
       "  <tbody>\n",
       "    <tr>\n",
       "      <th>16675</th>\n",
       "      <td>-122.79</td>\n",
       "      <td>40.75</td>\n",
       "      <td>17.0</td>\n",
       "      <td>3851.0</td>\n",
       "      <td>818.0</td>\n",
       "      <td>1352.0</td>\n",
       "      <td>560.0</td>\n",
       "      <td>2.1250</td>\n",
       "    </tr>\n",
       "    <tr>\n",
       "      <th>2727</th>\n",
       "      <td>-117.69</td>\n",
       "      <td>33.62</td>\n",
       "      <td>18.0</td>\n",
       "      <td>4265.0</td>\n",
       "      <td>581.0</td>\n",
       "      <td>2025.0</td>\n",
       "      <td>544.0</td>\n",
       "      <td>6.4598</td>\n",
       "    </tr>\n",
       "    <tr>\n",
       "      <th>2099</th>\n",
       "      <td>-117.34</td>\n",
       "      <td>33.16</td>\n",
       "      <td>24.0</td>\n",
       "      <td>1006.0</td>\n",
       "      <td>277.0</td>\n",
       "      <td>610.0</td>\n",
       "      <td>246.0</td>\n",
       "      <td>2.2500</td>\n",
       "    </tr>\n",
       "    <tr>\n",
       "      <th>2540</th>\n",
       "      <td>-117.64</td>\n",
       "      <td>33.68</td>\n",
       "      <td>4.0</td>\n",
       "      <td>5687.0</td>\n",
       "      <td>970.0</td>\n",
       "      <td>2677.0</td>\n",
       "      <td>938.0</td>\n",
       "      <td>6.5069</td>\n",
       "    </tr>\n",
       "    <tr>\n",
       "      <th>4754</th>\n",
       "      <td>-118.08</td>\n",
       "      <td>33.84</td>\n",
       "      <td>31.0</td>\n",
       "      <td>2377.0</td>\n",
       "      <td>600.0</td>\n",
       "      <td>2042.0</td>\n",
       "      <td>593.0</td>\n",
       "      <td>3.6250</td>\n",
       "    </tr>\n",
       "    <tr>\n",
       "      <th>...</th>\n",
       "      <td>...</td>\n",
       "      <td>...</td>\n",
       "      <td>...</td>\n",
       "      <td>...</td>\n",
       "      <td>...</td>\n",
       "      <td>...</td>\n",
       "      <td>...</td>\n",
       "      <td>...</td>\n",
       "    </tr>\n",
       "    <tr>\n",
       "      <th>12135</th>\n",
       "      <td>-121.44</td>\n",
       "      <td>38.51</td>\n",
       "      <td>27.0</td>\n",
       "      <td>7212.0</td>\n",
       "      <td>1606.0</td>\n",
       "      <td>4828.0</td>\n",
       "      <td>1549.0</td>\n",
       "      <td>2.2140</td>\n",
       "    </tr>\n",
       "    <tr>\n",
       "      <th>6805</th>\n",
       "      <td>-118.30</td>\n",
       "      <td>34.08</td>\n",
       "      <td>34.0</td>\n",
       "      <td>2501.0</td>\n",
       "      <td>1047.0</td>\n",
       "      <td>3326.0</td>\n",
       "      <td>970.0</td>\n",
       "      <td>1.8771</td>\n",
       "    </tr>\n",
       "    <tr>\n",
       "      <th>146</th>\n",
       "      <td>-116.18</td>\n",
       "      <td>33.69</td>\n",
       "      <td>17.0</td>\n",
       "      <td>89.0</td>\n",
       "      <td>19.0</td>\n",
       "      <td>79.0</td>\n",
       "      <td>21.0</td>\n",
       "      <td>2.3750</td>\n",
       "    </tr>\n",
       "    <tr>\n",
       "      <th>16218</th>\n",
       "      <td>-122.48</td>\n",
       "      <td>37.77</td>\n",
       "      <td>52.0</td>\n",
       "      <td>2556.0</td>\n",
       "      <td>595.0</td>\n",
       "      <td>1202.0</td>\n",
       "      <td>568.0</td>\n",
       "      <td>3.8899</td>\n",
       "    </tr>\n",
       "    <tr>\n",
       "      <th>14114</th>\n",
       "      <td>-122.06</td>\n",
       "      <td>37.34</td>\n",
       "      <td>20.0</td>\n",
       "      <td>3435.0</td>\n",
       "      <td>593.0</td>\n",
       "      <td>1293.0</td>\n",
       "      <td>553.0</td>\n",
       "      <td>6.7578</td>\n",
       "    </tr>\n",
       "  </tbody>\n",
       "</table>\n",
       "<p>13600 rows × 8 columns</p>\n",
       "</div>"
      ],
      "text/plain": [
       "       longitude  latitude  housing_median_age  total_rooms  total_bedrooms  \\\n",
       "16675    -122.79     40.75                17.0       3851.0           818.0   \n",
       "2727     -117.69     33.62                18.0       4265.0           581.0   \n",
       "2099     -117.34     33.16                24.0       1006.0           277.0   \n",
       "2540     -117.64     33.68                 4.0       5687.0           970.0   \n",
       "4754     -118.08     33.84                31.0       2377.0           600.0   \n",
       "...          ...       ...                 ...          ...             ...   \n",
       "12135    -121.44     38.51                27.0       7212.0          1606.0   \n",
       "6805     -118.30     34.08                34.0       2501.0          1047.0   \n",
       "146      -116.18     33.69                17.0         89.0            19.0   \n",
       "16218    -122.48     37.77                52.0       2556.0           595.0   \n",
       "14114    -122.06     37.34                20.0       3435.0           593.0   \n",
       "\n",
       "       population  households  median_income  \n",
       "16675      1352.0       560.0         2.1250  \n",
       "2727       2025.0       544.0         6.4598  \n",
       "2099        610.0       246.0         2.2500  \n",
       "2540       2677.0       938.0         6.5069  \n",
       "4754       2042.0       593.0         3.6250  \n",
       "...           ...         ...            ...  \n",
       "12135      4828.0      1549.0         2.2140  \n",
       "6805       3326.0       970.0         1.8771  \n",
       "146          79.0        21.0         2.3750  \n",
       "16218      1202.0       568.0         3.8899  \n",
       "14114      1293.0       553.0         6.7578  \n",
       "\n",
       "[13600 rows x 8 columns]"
      ]
     },
     "execution_count": 35,
     "metadata": {},
     "output_type": "execute_result"
    }
   ],
   "source": [
    "x_train"
   ]
  },
  {
   "cell_type": "code",
   "execution_count": 36,
   "id": "c09fd3a1",
   "metadata": {},
   "outputs": [
    {
     "data": {
      "text/plain": [
       "longitude             0\n",
       "latitude              0\n",
       "housing_median_age    0\n",
       "total_rooms           0\n",
       "total_bedrooms        0\n",
       "population            0\n",
       "households            0\n",
       "median_income         0\n",
       "dtype: int64"
      ]
     },
     "execution_count": 36,
     "metadata": {},
     "output_type": "execute_result"
    }
   ],
   "source": [
    "x_train.isnull().sum()"
   ]
  },
  {
   "cell_type": "markdown",
   "id": "6e93bcb8",
   "metadata": {},
   "source": [
    "Feature Scaling - Standard Scaler"
   ]
  },
  {
   "cell_type": "code",
   "execution_count": 37,
   "id": "c19b268b",
   "metadata": {},
   "outputs": [],
   "source": [
    "from sklearn.preprocessing import StandardScaler"
   ]
  },
  {
   "cell_type": "code",
   "execution_count": 38,
   "id": "0217ac6e",
   "metadata": {},
   "outputs": [],
   "source": [
    "scale = StandardScaler()\n",
    "x_train=x_train.mask(x_train.eq('None')).dropna()\n",
    "x_test=x_test.mask(x_test.eq('None')).dropna()\n",
    "x_train_copy = scale.fit_transform(x_train)\n",
    "x_test_copy = scale.fit_transform(x_test)"
   ]
  },
  {
   "cell_type": "code",
   "execution_count": 39,
   "id": "2d488928",
   "metadata": {},
   "outputs": [
    {
     "data": {
      "text/html": [
       "<div>\n",
       "<style scoped>\n",
       "    .dataframe tbody tr th:only-of-type {\n",
       "        vertical-align: middle;\n",
       "    }\n",
       "\n",
       "    .dataframe tbody tr th {\n",
       "        vertical-align: top;\n",
       "    }\n",
       "\n",
       "    .dataframe thead th {\n",
       "        text-align: right;\n",
       "    }\n",
       "</style>\n",
       "<table border=\"1\" class=\"dataframe\">\n",
       "  <thead>\n",
       "    <tr style=\"text-align: right;\">\n",
       "      <th></th>\n",
       "      <th>longitude</th>\n",
       "      <th>latitude</th>\n",
       "      <th>housing_median_age</th>\n",
       "      <th>total_rooms</th>\n",
       "      <th>total_bedrooms</th>\n",
       "      <th>population</th>\n",
       "      <th>households</th>\n",
       "      <th>median_income</th>\n",
       "    </tr>\n",
       "  </thead>\n",
       "  <tbody>\n",
       "    <tr>\n",
       "      <th>16675</th>\n",
       "      <td>-122.79</td>\n",
       "      <td>40.75</td>\n",
       "      <td>17.0</td>\n",
       "      <td>3851.0</td>\n",
       "      <td>818.0</td>\n",
       "      <td>1352.0</td>\n",
       "      <td>560.0</td>\n",
       "      <td>2.1250</td>\n",
       "    </tr>\n",
       "    <tr>\n",
       "      <th>2727</th>\n",
       "      <td>-117.69</td>\n",
       "      <td>33.62</td>\n",
       "      <td>18.0</td>\n",
       "      <td>4265.0</td>\n",
       "      <td>581.0</td>\n",
       "      <td>2025.0</td>\n",
       "      <td>544.0</td>\n",
       "      <td>6.4598</td>\n",
       "    </tr>\n",
       "    <tr>\n",
       "      <th>2099</th>\n",
       "      <td>-117.34</td>\n",
       "      <td>33.16</td>\n",
       "      <td>24.0</td>\n",
       "      <td>1006.0</td>\n",
       "      <td>277.0</td>\n",
       "      <td>610.0</td>\n",
       "      <td>246.0</td>\n",
       "      <td>2.2500</td>\n",
       "    </tr>\n",
       "    <tr>\n",
       "      <th>2540</th>\n",
       "      <td>-117.64</td>\n",
       "      <td>33.68</td>\n",
       "      <td>4.0</td>\n",
       "      <td>5687.0</td>\n",
       "      <td>970.0</td>\n",
       "      <td>2677.0</td>\n",
       "      <td>938.0</td>\n",
       "      <td>6.5069</td>\n",
       "    </tr>\n",
       "    <tr>\n",
       "      <th>4754</th>\n",
       "      <td>-118.08</td>\n",
       "      <td>33.84</td>\n",
       "      <td>31.0</td>\n",
       "      <td>2377.0</td>\n",
       "      <td>600.0</td>\n",
       "      <td>2042.0</td>\n",
       "      <td>593.0</td>\n",
       "      <td>3.6250</td>\n",
       "    </tr>\n",
       "  </tbody>\n",
       "</table>\n",
       "</div>"
      ],
      "text/plain": [
       "       longitude  latitude  housing_median_age  total_rooms  total_bedrooms  \\\n",
       "16675    -122.79     40.75                17.0       3851.0           818.0   \n",
       "2727     -117.69     33.62                18.0       4265.0           581.0   \n",
       "2099     -117.34     33.16                24.0       1006.0           277.0   \n",
       "2540     -117.64     33.68                 4.0       5687.0           970.0   \n",
       "4754     -118.08     33.84                31.0       2377.0           600.0   \n",
       "\n",
       "       population  households  median_income  \n",
       "16675      1352.0       560.0         2.1250  \n",
       "2727       2025.0       544.0         6.4598  \n",
       "2099        610.0       246.0         2.2500  \n",
       "2540       2677.0       938.0         6.5069  \n",
       "4754       2042.0       593.0         3.6250  "
      ]
     },
     "execution_count": 39,
     "metadata": {},
     "output_type": "execute_result"
    }
   ],
   "source": [
    "x_train.head()"
   ]
  },
  {
   "cell_type": "code",
   "execution_count": 40,
   "id": "0f088699",
   "metadata": {},
   "outputs": [
    {
     "data": {
      "text/plain": [
       "<matplotlib.collections.PathCollection at 0x27d067f77c0>"
      ]
     },
     "execution_count": 40,
     "metadata": {},
     "output_type": "execute_result"
    },
    {
     "data": {
      "image/png": "[encoded data removed]",
      "text/plain": [
       "<Figure size 432x288 with 1 Axes>"
      ]
     },
     "metadata": {
      "needs_background": "light"
     },
     "output_type": "display_data"
    }
   ],
   "source": [
    "plt.scatter(x_train['longitude'],y_train)"
   ]
  },
  {
   "cell_type": "markdown",
   "id": "35b6e5c4",
   "metadata": {},
   "source": [
    "# Lets train our model\n",
    "\n",
    "1) Linear Regression "
   ]
  },
  {
   "cell_type": "code",
   "execution_count": 41,
   "id": "9322cf73",
   "metadata": {},
   "outputs": [
    {
     "data": {
      "text/plain": [
       "0.6300630935878971"
      ]
     },
     "execution_count": 41,
     "metadata": {},
     "output_type": "execute_result"
    }
   ],
   "source": [
    "from sklearn.linear_model import LinearRegression\n",
    "regLinear = LinearRegression()\n",
    "\n",
    "regLinear.fit(x_train,y_train)\n",
    "ScoreLinear = regLinear.score(x_test,y_test)\n",
    "ScoreLinear"
   ]
  },
  {
   "cell_type": "code",
   "execution_count": 42,
   "id": "6cde7aac",
   "metadata": {},
   "outputs": [
    {
     "data": {
      "text/plain": [
       "[<matplotlib.lines.Line2D at 0x27d080e5670>,\n",
       " <matplotlib.lines.Line2D at 0x27d080e56a0>,\n",
       " <matplotlib.lines.Line2D at 0x27d080e5610>,\n",
       " <matplotlib.lines.Line2D at 0x27d080e5820>,\n",
       " <matplotlib.lines.Line2D at 0x27d080e5880>,\n",
       " <matplotlib.lines.Line2D at 0x27d080e5a90>,\n",
       " <matplotlib.lines.Line2D at 0x27d080e5c40>,\n",
       " <matplotlib.lines.Line2D at 0x27d068542b0>]"
      ]
     },
     "execution_count": 42,
     "metadata": {},
     "output_type": "execute_result"
    },
    {
     "data": {
      "image/png": "[encoded data removed]",
      "text/plain": [
       "<Figure size 432x288 with 1 Axes>"
      ]
     },
     "metadata": {
      "needs_background": "light"
     },
     "output_type": "display_data"
    }
   ],
   "source": [
    "y_pred = regLinear.predict(x_test)\n",
    "plt.plot(x_test,y_pred)"
   ]
  },
  {
   "cell_type": "code",
   "execution_count": 43,
   "id": "eb49ea4e",
   "metadata": {},
   "outputs": [],
   "source": [
    "# Defining a function that prints out all the metrics\n",
    "def metrics(y_true,y_pred):\n",
    "    print(f'MAE: ',mean_absolute_error(y_true,y_pred))\n",
    "    print(f'MSE: ',mean_squared_error(y_true,y_pred))\n",
    "    print(f'RMSE: ',mean_squared_error(y_true,y_pred)**0.5)\n",
    "    print(f'Explained Variance Score: ',explained_variance_score(y_true,y_pred))\n",
    "\n",
    "# function for calculating the accuracy\n",
    "def accuracy(y_true,y_predictions):\n",
    "    errors = abs(y_predictions - y_true)\n",
    "    mape = 100 * np.mean(errors / y_true)\n",
    "    accuracy_model = 100 - mape\n",
    "    return accuracy_model"
   ]
  },
  {
   "cell_type": "code",
   "execution_count": 44,
   "id": "8161f3a5",
   "metadata": {},
   "outputs": [],
   "source": [
    "from sklearn.metrics import mean_absolute_error,mean_squared_error,explained_variance_score"
   ]
  },
  {
   "cell_type": "code",
   "execution_count": 45,
   "id": "12753ad2",
   "metadata": {},
   "outputs": [
    {
     "name": "stdout",
     "output_type": "stream",
     "text": [
      "MAE:  50677.44244704148\n",
      "MSE:  4910564175.750733\n",
      "RMSE:  70075.41777078988\n",
      "Explained Variance Score:  0.6300731839600097\n"
     ]
    }
   ],
   "source": [
    "metrics(y_test,y_pred)"
   ]
  },
  {
   "cell_type": "code",
   "execution_count": 46,
   "id": "383dcae0",
   "metadata": {},
   "outputs": [
    {
     "data": {
      "text/plain": [
       "70.7713063641573"
      ]
     },
     "execution_count": 46,
     "metadata": {},
     "output_type": "execute_result"
    }
   ],
   "source": [
    "accuracy(y_test,y_pred)"
   ]
  },
  {
   "cell_type": "markdown",
   "id": "22bc4809",
   "metadata": {},
   "source": [
    "# Decision Tree"
   ]
  },
  {
   "cell_type": "code",
   "execution_count": 47,
   "id": "41c02206",
   "metadata": {},
   "outputs": [],
   "source": [
    "from sklearn.tree import DecisionTreeRegressor"
   ]
  },
  {
   "cell_type": "code",
   "execution_count": 49,
   "id": "4b9b6f54",
   "metadata": {},
   "outputs": [
    {
     "data": {
      "text/plain": [
       "0.6159822076474825"
      ]
     },
     "execution_count": 49,
     "metadata": {},
     "output_type": "execute_result"
    }
   ],
   "source": [
    "regDTree = DecisionTreeRegressor(random_state=0)\n",
    "regDTree.fit(x_train,y_train)\n",
    "ScoreDTree = regDTree.score(x_test,y_test)\n",
    "ScoreDTree"
   ]
  },
  {
   "cell_type": "code",
   "execution_count": 50,
   "id": "718cd236",
   "metadata": {},
   "outputs": [
    {
     "data": {
      "text/plain": [
       "array([ 53400., 444300., 177900., ...,  67000., 148700., 225000.])"
      ]
     },
     "execution_count": 50,
     "metadata": {},
     "output_type": "execute_result"
    }
   ],
   "source": [
    "y_pred_DTree = regDTree.predict(x_test)\n",
    "y_pred_DTree"
   ]
  },
  {
   "cell_type": "code",
   "execution_count": 51,
   "id": "08b8ff78",
   "metadata": {},
   "outputs": [
    {
     "data": {
      "text/plain": [
       "[<matplotlib.lines.Line2D at 0x27d080d9be0>,\n",
       " <matplotlib.lines.Line2D at 0x27d080d9dc0>,\n",
       " <matplotlib.lines.Line2D at 0x27d080d9af0>,\n",
       " <matplotlib.lines.Line2D at 0x27d080d91c0>,\n",
       " <matplotlib.lines.Line2D at 0x27d08166af0>,\n",
       " <matplotlib.lines.Line2D at 0x27d08147be0>,\n",
       " <matplotlib.lines.Line2D at 0x27d08147910>,\n",
       " <matplotlib.lines.Line2D at 0x27d081470a0>]"
      ]
     },
     "execution_count": 51,
     "metadata": {},
     "output_type": "execute_result"
    },
    {
     "data": {
      "image/png": "[encoded data removed]",
      "text/plain": [
       "<Figure size 432x288 with 1 Axes>"
      ]
     },
     "metadata": {
      "needs_background": "light"
     },
     "output_type": "display_data"
    }
   ],
   "source": [
    "plt.plot(x_test,y_pred_DTree)"
   ]
  },
  {
   "cell_type": "code",
   "execution_count": 52,
   "id": "f58df69b",
   "metadata": {},
   "outputs": [
    {
     "name": "stdout",
     "output_type": "stream",
     "text": [
      "MAE:  45962.95911764706\n",
      "MSE:  5097474680.929706\n",
      "RMSE:  71396.60132618152\n",
      "Explained Variance Score:  0.6161732610031465\n"
     ]
    }
   ],
   "source": [
    "metrics(y_test,y_pred_DTree)"
   ]
  },
  {
   "cell_type": "code",
   "execution_count": 53,
   "id": "246c01c5",
   "metadata": {},
   "outputs": [
    {
     "data": {
      "text/plain": [
       "75.89469305631224"
      ]
     },
     "execution_count": 53,
     "metadata": {},
     "output_type": "execute_result"
    }
   ],
   "source": [
    "accuracy(y_test,y_pred_DTree)"
   ]
  },
  {
   "cell_type": "code",
   "execution_count": 58,
   "id": "fdbe3588",
   "metadata": {},
   "outputs": [
    {
     "data": {
      "text/plain": [
       "<seaborn.axisgrid.FacetGrid at 0x27d0a92a040>"
      ]
     },
     "execution_count": 58,
     "metadata": {},
     "output_type": "execute_result"
    },
    {
     "data": {
      "image/png": "[encoded data removed]",
      "text/plain": [
       "<Figure size 360x360 with 1 Axes>"
      ]
     },
     "metadata": {
      "needs_background": "light"
     },
     "output_type": "display_data"
    }
   ],
   "source": [
    "sns.displot(y_pred_DTree,kde=True)"
   ]
  },
  {
   "cell_type": "markdown",
   "id": "e9c444b4",
   "metadata": {},
   "source": [
    "# Random Forest "
   ]
  },
  {
   "cell_type": "code",
   "execution_count": 59,
   "id": "e8274c62",
   "metadata": {},
   "outputs": [],
   "source": [
    "from sklearn.ensemble import RandomForestRegressor"
   ]
  },
  {
   "cell_type": "code",
   "execution_count": 61,
   "id": "c0c31493",
   "metadata": {},
   "outputs": [
    {
     "data": {
      "text/plain": [
       "0.8090255242641767"
      ]
     },
     "execution_count": 61,
     "metadata": {},
     "output_type": "execute_result"
    }
   ],
   "source": [
    "regRF = RandomForestRegressor(n_estimators=100,random_state=0)\n",
    "regRF.fit(x_train,y_train)\n",
    "ScoreRF = regRF.score(x_test,y_test)\n",
    "ScoreRF"
   ]
  },
  {
   "cell_type": "code",
   "execution_count": 62,
   "id": "9e7e0e0c",
   "metadata": {},
   "outputs": [
    {
     "data": {
      "text/plain": [
       "array([ 55927.  , 301901.05, 218814.  , ...,  86311.  , 148698.  ,\n",
       "       217482.  ])"
      ]
     },
     "execution_count": 62,
     "metadata": {},
     "output_type": "execute_result"
    }
   ],
   "source": [
    "y_pred_RF = regRF.predict(x_test)\n",
    "y_pred_RF"
   ]
  },
  {
   "cell_type": "code",
   "execution_count": 63,
   "id": "05efa212",
   "metadata": {},
   "outputs": [
    {
     "data": {
      "text/plain": [
       "<seaborn.axisgrid.FacetGrid at 0x27d0a7810d0>"
      ]
     },
     "execution_count": 63,
     "metadata": {},
     "output_type": "execute_result"
    },
    {
     "data": {
      "image/png": "[encoded data removed]",
      "text/plain": [
       "<Figure size 360x360 with 1 Axes>"
      ]
     },
     "metadata": {
      "needs_background": "light"
     },
     "output_type": "display_data"
    }
   ],
   "source": [
    "sns.displot(y_pred_RF,kde=True)"
   ]
  },
  {
   "cell_type": "code",
   "execution_count": 64,
   "id": "cab43463",
   "metadata": {},
   "outputs": [
    {
     "name": "stdout",
     "output_type": "stream",
     "text": [
      "MAE:  33333.10495\n",
      "MSE:  2535006382.9166265\n",
      "RMSE:  50348.84688765599\n",
      "Explained Variance Score:  0.8092098075202094\n"
     ]
    }
   ],
   "source": [
    "metrics(y_test,y_pred_RF)"
   ]
  },
  {
   "cell_type": "code",
   "execution_count": 65,
   "id": "0dab2c46",
   "metadata": {},
   "outputs": [
    {
     "data": {
      "text/plain": [
       "82.22495344124765"
      ]
     },
     "execution_count": 65,
     "metadata": {},
     "output_type": "execute_result"
    }
   ],
   "source": [
    "accuracy(y_test,y_pred_RF)"
   ]
  },
  {
   "cell_type": "markdown",
   "id": "335e274c",
   "metadata": {},
   "source": [
    "# KNN"
   ]
  },
  {
   "cell_type": "code",
   "execution_count": 66,
   "id": "aecd3837",
   "metadata": {},
   "outputs": [],
   "source": [
    "from sklearn.neighbors import KNeighborsRegressor"
   ]
  },
  {
   "cell_type": "code",
   "execution_count": 68,
   "id": "3b2f96eb",
   "metadata": {},
   "outputs": [
    {
     "data": {
      "text/plain": [
       "0.2507781649285221"
      ]
     },
     "execution_count": 68,
     "metadata": {},
     "output_type": "execute_result"
    }
   ],
   "source": [
    "regKNN = KNeighborsRegressor()\n",
    "regKNN.fit(x_train,y_train)\n",
    "ScoreKNN = regKNN.score(x_test,y_test)\n",
    "ScoreKNN"
   ]
  },
  {
   "cell_type": "code",
   "execution_count": 69,
   "id": "90464fa6",
   "metadata": {},
   "outputs": [
    {
     "data": {
      "text/plain": [
       "array([106560., 193040., 148860., ..., 182980., 169720., 128980.])"
      ]
     },
     "execution_count": 69,
     "metadata": {},
     "output_type": "execute_result"
    }
   ],
   "source": [
    "y_pred_KNN = regKNN.predict(x_test)\n",
    "y_pred_KNN"
   ]
  },
  {
   "cell_type": "code",
   "execution_count": 70,
   "id": "96aec4af",
   "metadata": {},
   "outputs": [
    {
     "data": {
      "text/plain": [
       "<seaborn.axisgrid.FacetGrid at 0x27d0a83a340>"
      ]
     },
     "execution_count": 70,
     "metadata": {},
     "output_type": "execute_result"
    },
    {
     "data": {
      "image/png": "[encoded data removed]",
      "text/plain": [
       "<Figure size 360x360 with 1 Axes>"
      ]
     },
     "metadata": {
      "needs_background": "light"
     },
     "output_type": "display_data"
    }
   ],
   "source": [
    "sns.displot(y_pred_KNN,kde=True)"
   ]
  },
  {
   "cell_type": "code",
   "execution_count": 71,
   "id": "b8cc776a",
   "metadata": {},
   "outputs": [
    {
     "name": "stdout",
     "output_type": "stream",
     "text": [
      "MAE:  77591.59047058824\n",
      "MSE:  9945214546.649672\n",
      "RMSE:  99725.6965212561\n",
      "Explained Variance Score:  0.25083152321749747\n"
     ]
    }
   ],
   "source": [
    "metrics(y_test,y_pred_KNN)"
   ]
  },
  {
   "cell_type": "code",
   "execution_count": 72,
   "id": "c4b4e4ec",
   "metadata": {},
   "outputs": [
    {
     "data": {
      "text/plain": [
       "50.748006865469875"
      ]
     },
     "execution_count": 72,
     "metadata": {},
     "output_type": "execute_result"
    }
   ],
   "source": [
    "accuracy(y_test,y_pred_KNN)"
   ]
  },
  {
   "cell_type": "markdown",
   "id": "4abeb9a7",
   "metadata": {},
   "source": [
    "# SVM"
   ]
  },
  {
   "cell_type": "code",
   "execution_count": 73,
   "id": "b0961d51",
   "metadata": {},
   "outputs": [],
   "source": [
    "from sklearn.svm import SVR"
   ]
  },
  {
   "cell_type": "code",
   "execution_count": 75,
   "id": "770b3565",
   "metadata": {},
   "outputs": [
    {
     "data": {
      "text/plain": [
       "-0.06376020705948093"
      ]
     },
     "execution_count": 75,
     "metadata": {},
     "output_type": "execute_result"
    }
   ],
   "source": [
    "regSVM = SVR(kernel='rbf')\n",
    "regSVM.fit(x_train,y_train)\n",
    "ScoreSVM = regSVM.score(x_test,y_test)\n",
    "ScoreSVM"
   ]
  },
  {
   "cell_type": "code",
   "execution_count": 76,
   "id": "c7de1b00",
   "metadata": {},
   "outputs": [
    {
     "data": {
      "text/plain": [
       "array([179296.11106658, 179526.05852577, 179455.26721956, ...,\n",
       "       179230.38804756, 180023.34005638, 179179.64239988])"
      ]
     },
     "execution_count": 76,
     "metadata": {},
     "output_type": "execute_result"
    }
   ],
   "source": [
    "y_pred_SVM = regSVM.predict(x_test)\n",
    "y_pred_SVM"
   ]
  },
  {
   "cell_type": "code",
   "execution_count": 77,
   "id": "6848d563",
   "metadata": {},
   "outputs": [
    {
     "data": {
      "text/plain": [
       "<seaborn.axisgrid.FacetGrid at 0x27d0a92a370>"
      ]
     },
     "execution_count": 77,
     "metadata": {},
     "output_type": "execute_result"
    },
    {
     "data": {
      "image/png": "[encoded data removed]",
      "text/plain": [
       "<Figure size 360x360 with 1 Axes>"
      ]
     },
     "metadata": {
      "needs_background": "light"
     },
     "output_type": "display_data"
    }
   ],
   "source": [
    "sns.displot(y_pred_SVM,kde=True)"
   ]
  },
  {
   "cell_type": "code",
   "execution_count": 78,
   "id": "668f472c",
   "metadata": {},
   "outputs": [
    {
     "name": "stdout",
     "output_type": "stream",
     "text": [
      "MAE:  88269.20715115889\n",
      "MSE:  14120415329.841154\n",
      "RMSE:  118829.35382236644\n",
      "Explained Variance Score:  0.001032715803133688\n"
     ]
    }
   ],
   "source": [
    "metrics(y_test,y_pred_SVM)"
   ]
  },
  {
   "cell_type": "code",
   "execution_count": 79,
   "id": "b18630cd",
   "metadata": {},
   "outputs": [
    {
     "data": {
      "text/plain": [
       "49.28492539861294"
      ]
     },
     "execution_count": 79,
     "metadata": {},
     "output_type": "execute_result"
    }
   ],
   "source": [
    "accuracy(y_test,y_pred_SVM)"
   ]
  },
  {
   "cell_type": "code",
   "execution_count": null,
   "id": "dedc394f",
   "metadata": {},
   "outputs": [],
   "source": []
  }
 ],
 "metadata": {
  "kernelspec": {
   "display_name": "Python 3 (ipykernel)",
   "language": "python",
   "name": "python3"
  },
  "language_info": {
   "codemirror_mode": {
    "name": "ipython",
    "version": 3
   },
   "file_extension": ".py",
   "mimetype": "text/x-python",
   "name": "python",
   "nbconvert_exporter": "python",
   "pygments_lexer": "ipython3",
   "version": "3.9.7"
  }
 },
 "nbformat": 4,
 "nbformat_minor": 5
}
